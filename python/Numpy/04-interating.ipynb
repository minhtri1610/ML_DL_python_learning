{
 "cells": [
  {
   "cell_type": "markdown",
   "metadata": {},
   "source": []
  },
  {
   "cell_type": "code",
   "execution_count": 1,
   "metadata": {},
   "outputs": [],
   "source": [
    "import numpy as np"
   ]
  },
  {
   "cell_type": "code",
   "execution_count": 2,
   "metadata": {},
   "outputs": [],
   "source": [
    "numbers_1d = np.arange(10)"
   ]
  },
  {
   "cell_type": "code",
   "execution_count": 5,
   "metadata": {},
   "outputs": [
    {
     "name": "stdout",
     "output_type": "stream",
     "text": [
      "0\n",
      "1\n",
      "2\n",
      "3\n",
      "4\n",
      "5\n",
      "6\n",
      "7\n",
      "8\n",
      "9\n"
     ]
    }
   ],
   "source": [
    "for item in np.nditer(numbers_1d):\n",
    "    print(item)"
   ]
  },
  {
   "cell_type": "code",
   "execution_count": 6,
   "metadata": {},
   "outputs": [
    {
     "data": {
      "text/plain": [
       "array([[0.74270792, 0.13146358, 0.78093516, 0.08390543],\n",
       "       [0.1674842 , 0.18615167, 0.86917712, 0.52134186],\n",
       "       [0.89787399, 0.01591842, 0.98342641, 0.36723886]])"
      ]
     },
     "execution_count": 6,
     "metadata": {},
     "output_type": "execute_result"
    }
   ],
   "source": [
    "# Mảng 2chieeuf\n",
    "np_2d_arr = np.random.random((3,4))\n",
    "np_2d_arr"
   ]
  },
  {
   "cell_type": "code",
   "execution_count": 7,
   "metadata": {},
   "outputs": [
    {
     "name": "stdout",
     "output_type": "stream",
     "text": [
      "0.7427079234694552\n",
      "0.13146358396140212\n",
      "0.780935164168968\n",
      "0.08390542579264137\n",
      "0.16748420163054845\n",
      "0.18615167008404776\n",
      "0.86917711606154\n",
      "0.5213418555734572\n",
      "0.8978739854429001\n",
      "0.015918416679148617\n",
      "0.983426411410027\n",
      "0.36723886365378144\n"
     ]
    }
   ],
   "source": [
    "for item in np.nditer(np_2d_arr):\n",
    "    print(item)"
   ]
  },
  {
   "cell_type": "code",
   "execution_count": 9,
   "metadata": {},
   "outputs": [
    {
     "name": "stdout",
     "output_type": "stream",
     "text": [
      "0.31592094270464854\n",
      "0.8069121730346975\n",
      "0.4739679928778877\n",
      "0.8671525963044704\n",
      "0.9924348967685692\n",
      "0.25881687019207145\n",
      "0.3255607175241392\n",
      "0.05742340932364931\n",
      "0.08054038869636682\n",
      "0.9730893672945047\n",
      "0.7438024989944229\n",
      "0.13810265912533348\n",
      "0.32987212294852086\n",
      "0.23780221229478038\n",
      "0.8625256256836268\n",
      "0.05769636876912443\n",
      "0.9491007788469042\n",
      "0.9003984895543706\n",
      "0.5928942936190582\n",
      "0.21015777369402378\n",
      "0.41881757000551545\n",
      "0.3754817366206812\n",
      "0.8752018479918061\n",
      "0.886638126694479\n"
     ]
    }
   ],
   "source": [
    "#mảng 3 chiều\n",
    "numbers_3d_arr = np.random.random((2,3,4))\n",
    "\n",
    "for item in np.nditer(numbers_3d_arr):\n",
    "    print(item)"
   ]
  },
  {
   "cell_type": "code",
   "execution_count": 13,
   "metadata": {},
   "outputs": [
    {
     "data": {
      "text/plain": [
       "array([0, 1, 2, 3, 4, 5, 6])"
      ]
     },
     "execution_count": 13,
     "metadata": {},
     "output_type": "execute_result"
    }
   ],
   "source": [
    "#Thay đổi giá trị trong quá trình lặp\n",
    "numbers = np.arange(7)\n",
    "numbers"
   ]
  },
  {
   "cell_type": "code",
   "execution_count": null,
   "metadata": {},
   "outputs": [],
   "source": [
    "# Bình phương mỗi phần tử\n",
    "# Chú ý: Thêm cờ op_flags = ['readwrite'] để bật chế độ có thể thay đổi các phần tử trong mảng"
   ]
  },
  {
   "cell_type": "code",
   "execution_count": 14,
   "metadata": {},
   "outputs": [
    {
     "data": {
      "text/plain": [
       "array([ 0,  1,  4,  9, 16, 25, 36])"
      ]
     },
     "execution_count": 14,
     "metadata": {},
     "output_type": "execute_result"
    }
   ],
   "source": [
    "for item in np.nditer(numbers, op_flags=['readwrite']):\n",
    "    item[...] = item ** 2\n",
    "numbers"
   ]
  },
  {
   "cell_type": "markdown",
   "metadata": {},
   "source": [
    "Lặp qua dòng"
   ]
  },
  {
   "cell_type": "code",
   "execution_count": 17,
   "metadata": {},
   "outputs": [
    {
     "data": {
      "text/plain": [
       "array([[0.80193894, 0.65458358],\n",
       "       [0.61717001, 0.11940071]])"
      ]
     },
     "execution_count": 17,
     "metadata": {},
     "output_type": "execute_result"
    }
   ],
   "source": [
    "float_2D = np.random.random((2, 2))\n",
    "float_2D"
   ]
  },
  {
   "cell_type": "code",
   "execution_count": 23,
   "metadata": {},
   "outputs": [
    {
     "name": "stdout",
     "output_type": "stream",
     "text": [
      "[0.80193894 0.65458358 0.61717001 0.11940071]\n"
     ]
    }
   ],
   "source": [
    "# flags=['external_loop'] -> làm cho giá trị nhận được là mảng 1 chiều\n",
    "# order='F' -> thứ tự F nếu các mảng liền kề nhau\n",
    "# Controls the iteration order. ‘C’ means C order, ‘F’ means Fortran order, ‘A’ means ‘F’ order if all the arrays are Fortran contiguous, ‘C’ order otherwise, and ‘K’ means as close to the order the array elements appear in memory as possible. This also affects the element memory order of allocate operands, as they are allocated to be compatible with iteration order. Default is ‘K’.\n",
    "for item in np.nditer(float_2D, flags=['external_loop'], order='C'):\n",
    "    print(item)"
   ]
  }
 ],
 "metadata": {
  "kernelspec": {
   "display_name": "Python 3",
   "language": "python",
   "name": "python3"
  },
  "language_info": {
   "codemirror_mode": {
    "name": "ipython",
    "version": 3
   },
   "file_extension": ".py",
   "mimetype": "text/x-python",
   "name": "python",
   "nbconvert_exporter": "python",
   "pygments_lexer": "ipython3",
   "version": "3.11.4"
  }
 },
 "nbformat": 4,
 "nbformat_minor": 2
}
