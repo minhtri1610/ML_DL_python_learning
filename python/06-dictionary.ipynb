{
 "cells": [
  {
   "cell_type": "markdown",
   "metadata": {},
   "source": [
    "Dictionary là kiểu dữ liệu khả biến(mutable)."
   ]
  },
  {
   "cell_type": "markdown",
   "metadata": {},
   "source": [
    "I. Khởi tạo một Dictionary"
   ]
  },
  {
   "cell_type": "markdown",
   "metadata": {},
   "source": [
    "Cách 1"
   ]
  },
  {
   "cell_type": "code",
   "execution_count": 1,
   "metadata": {},
   "outputs": [],
   "source": [
    "soobin = { \"age\": 26, \"song\": [\"Phia sau mot co gai\"] }"
   ]
  },
  {
   "cell_type": "code",
   "execution_count": 2,
   "metadata": {},
   "outputs": [],
   "source": [
    "sontung = {\n",
    "        \"name\": \"Son Tung MTP\", \n",
    "        \"birth year\": 1994, \n",
    "        \"song\": [ \n",
    "            \"Lac Troi\", \n",
    "            \"Noi nay co anh\", \n",
    "            \"Chung ta khong thuoc ve nhau\"\n",
    "        ],\n",
    "        \"mother\": { \n",
    "            \"name\": \"Pham Thi Thanh Binh\"\n",
    "        }\n",
    "    }"
   ]
  },
  {
   "cell_type": "code",
   "execution_count": 3,
   "metadata": {},
   "outputs": [],
   "source": [
    "adresses = { 1: \"Luong Ngoc Quyen\", 2: \"Xuan Thuy\", 3: \"Cau Giay\" }"
   ]
  },
  {
   "cell_type": "code",
   "execution_count": 4,
   "metadata": {},
   "outputs": [],
   "source": [
    "rooms = { (\"pillows\" , \"carpet\", \"computer\"): \"bedroom\" }"
   ]
  },
  {
   "cell_type": "markdown",
   "metadata": {},
   "source": [
    "Cách 2"
   ]
  },
  {
   "cell_type": "code",
   "execution_count": 5,
   "metadata": {},
   "outputs": [
    {
     "data": {
      "text/plain": [
       "{'name': 'Vu Cat Tuong', 'year': 1992, 'albums': ['Dong', 'Vet Mua', 'Yeu Xa']}"
      ]
     },
     "execution_count": 5,
     "metadata": {},
     "output_type": "execute_result"
    }
   ],
   "source": [
    "dict([(\"name\", \"Vu Cat Tuong\"), (\"year\", 1992), (\"albums\", [\"Dong\", \"Vet Mua\", \"Yeu Xa\"])])"
   ]
  },
  {
   "cell_type": "markdown",
   "metadata": {},
   "source": [
    "Cách 3"
   ]
  },
  {
   "cell_type": "code",
   "execution_count": 6,
   "metadata": {},
   "outputs": [
    {
     "data": {
      "text/plain": [
       "{'type': 'zoo',\n",
       " 'activities': ['skipping rope',\n",
       "  'playting see-saw',\n",
       "  'swinging',\n",
       "  'flying kite',\n",
       "  'blowing bubbies',\n",
       "  'sliding']}"
      ]
     },
     "execution_count": 6,
     "metadata": {},
     "output_type": "execute_result"
    }
   ],
   "source": [
    "dict(type=\"zoo\", activities=[\"skipping rope\", \"playting see-saw\", \"swinging\", \"flying kite\", \"blowing bubbies\", \"sliding\"])"
   ]
  },
  {
   "cell_type": "markdown",
   "metadata": {},
   "source": [
    "Cách 4"
   ]
  },
  {
   "cell_type": "code",
   "execution_count": 7,
   "metadata": {},
   "outputs": [
    {
     "data": {
      "text/plain": [
       "{'Duong': 'Duong dep trai', 'Kien': 'Kien dep trai'}"
      ]
     },
     "execution_count": 7,
     "metadata": {},
     "output_type": "execute_result"
    }
   ],
   "source": [
    "{x: x + \" dep trai\" for x in [\"Duong\", \"Kien\"]}"
   ]
  },
  {
   "cell_type": "markdown",
   "metadata": {},
   "source": [
    "II. Kiểu dữ liệu của Key và Value\n",
    "Ta có thể kết luận rằng, Kiểu dữ liệu của key có thể là bất kỳ kiểu bất biến(immutable) nào ví dụ như chuỗi(string) hay số, thậm chí tuple.\n",
    "\n",
    "Tuple có thể làm key nhưng chỉ trong trường hợp tuple đó chứa các giá trị bất biến như chuỗi, số hay tuple.\n",
    "\n",
    "Kiểu dữ liệu của value vô cùng đa dạng có thể là bất cứ kiểu dữ liệu nào"
   ]
  }
 ],
 "metadata": {
  "kernelspec": {
   "display_name": "Python 3",
   "language": "python",
   "name": "python3"
  },
  "language_info": {
   "codemirror_mode": {
    "name": "ipython",
    "version": 3
   },
   "file_extension": ".py",
   "mimetype": "text/x-python",
   "name": "python",
   "nbconvert_exporter": "python",
   "pygments_lexer": "ipython3",
   "version": "3.11.4"
  }
 },
 "nbformat": 4,
 "nbformat_minor": 2
}
