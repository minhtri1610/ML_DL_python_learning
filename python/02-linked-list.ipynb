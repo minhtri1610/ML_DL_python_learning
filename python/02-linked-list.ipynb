{
 "cells": [
  {
   "cell_type": "code",
   "execution_count": 21,
   "metadata": {},
   "outputs": [],
   "source": [
    "class Number:\n",
    "    def __init__(self,val):\n",
    "        self.val = val\n",
    "        self.next = None\n"
   ]
  },
  {
   "cell_type": "code",
   "execution_count": 22,
   "metadata": {},
   "outputs": [],
   "source": [
    "class LinkedList:\n",
    "    #biến thực thể head đại diện cho Node ở đầu list\n",
    "    def __init__(self) -> None:\n",
    "        self.head = None\n",
    "\n",
    "    #in tất cả các giá trị trong list\n",
    "    def  printVal(self):\n",
    "        currentNode = self.head\n",
    "        while currentNode:\n",
    "            print(currentNode.val)\n",
    "            currentNode = currentNode.next\n",
    "\n",
    "    #Thêm một node vào cuối cùng của list\n",
    "    def appendNode(self, node):\n",
    "        if isinstance(node, Number):\n",
    "            currentNode = self.head\n",
    "            while currentNode:\n",
    "                if currentNode.next is not None:\n",
    "                    currentNode = currentNode.next\n",
    "                else: \n",
    "                    currentNode.next = node\n",
    "                    break\n",
    "        else:\n",
    "            raise ValueError(\"this is not Number Node type\")\n",
    "        \n",
    "                    "
   ]
  },
  {
   "cell_type": "code",
   "execution_count": 23,
   "metadata": {},
   "outputs": [
    {
     "data": {
      "text/plain": [
       "<__main__.LinkedList at 0x25ea8bd4550>"
      ]
     },
     "execution_count": 23,
     "metadata": {},
     "output_type": "execute_result"
    }
   ],
   "source": [
    "\n",
    "\n",
    "def buildLinkedListFromArray(arr):\n",
    "    my_list = LinkedList()\n",
    "    if len(arr) == 0:\n",
    "        return my_list\n",
    "    \n",
    "    head = Number(arr[0])\n",
    "    my_list.head = head\n",
    "    for i in range(1, len(arr)):\n",
    "        head.next = Number(arr[i])\n",
    "        head = head.next\n",
    "\n",
    "    return my_list\n",
    "\n",
    "inp = [1,0,0,1,0]\n",
    "res_linked = buildLinkedListFromArray(inp)\n",
    "res_linked"
   ]
  },
  {
   "cell_type": "code",
   "execution_count": 24,
   "metadata": {},
   "outputs": [
    {
     "data": {
      "text/plain": [
       "18"
      ]
     },
     "execution_count": 24,
     "metadata": {},
     "output_type": "execute_result"
    }
   ],
   "source": [
    "final = 0\n",
    "\n",
    "currNode = res_linked.head\n",
    "while currNode:\n",
    "    final = (final * 2) + currNode.val\n",
    "    currNode = currNode.next    \n",
    "\n",
    "final"
   ]
  },
  {
   "cell_type": "markdown",
   "metadata": {},
   "source": [
    "Tìm vị trí giữa của 1 linked List"
   ]
  },
  {
   "cell_type": "code",
   "execution_count": 25,
   "metadata": {},
   "outputs": [],
   "source": [
    "arr = [1,5,6,7,8,9,3]\n",
    "my_linked = buildLinkedListFromArray(arr)"
   ]
  },
  {
   "cell_type": "markdown",
   "metadata": {},
   "source": [
    "Ý tưởng: - Tạo 2 con trỏ i và j - Lặp để duyệt qua Linked List - Ở một vòng lặp - Cho con trỏ i nhảy 2 bước - Cho con trỏ j nhảy 1 bước - Khi con trỏ j nhảy hết thì i sẽ dừng lại ở tâm Linked List"
   ]
  },
  {
   "cell_type": "code",
   "execution_count": 26,
   "metadata": {},
   "outputs": [],
   "source": [
    "def getMiddleOfLinkedList(linkedList):\n",
    "    i = linkedList.head\n",
    "    j = linkedList.head\n",
    "    \n",
    "    while i and i.next:\n",
    "        i = i.next.next\n",
    "        j = j.next\n",
    "    return j"
   ]
  },
  {
   "cell_type": "code",
   "execution_count": 27,
   "metadata": {},
   "outputs": [
    {
     "data": {
      "text/plain": [
       "7"
      ]
     },
     "execution_count": 27,
     "metadata": {},
     "output_type": "execute_result"
    }
   ],
   "source": [
    "getMiddleOfLinkedList(my_linked).val"
   ]
  }
 ],
 "metadata": {
  "kernelspec": {
   "display_name": "Python 3",
   "language": "python",
   "name": "python3"
  },
  "language_info": {
   "codemirror_mode": {
    "name": "ipython",
    "version": 3
   },
   "file_extension": ".py",
   "mimetype": "text/x-python",
   "name": "python",
   "nbconvert_exporter": "python",
   "pygments_lexer": "ipython3",
   "version": "3.11.4"
  }
 },
 "nbformat": 4,
 "nbformat_minor": 2
}
