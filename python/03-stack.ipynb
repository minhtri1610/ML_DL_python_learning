{
 "cells": [
  {
   "cell_type": "markdown",
   "metadata": {},
   "source": [
    "Stack -> FILO"
   ]
  },
  {
   "cell_type": "markdown",
   "metadata": {},
   "source": [
    "Tạo một stack để lưu trữ\n",
    "Duyệt qua từng phần tử của chuỗi đó\n",
    "Nếu phần tử đó là một trong 3 ký tự mở ngoặc như \"(\", \"[\", \"{\" thì ta thêm vào stack\n",
    "Nếu phần tử đó là một trong 3 ký tự đóng ngoặc như \")\", \"]\", \"}\" thì ta phải kiểm tra phần tử cuối cùng trong stack phải là ký tự mở ngoặc tương ứng:\n",
    "Nếu điều kiện này thoả mãn, pop phần tử cuối này ra khỏi stack\n",
    "Nếu điều kiện này không thoả mãn, return False\n",
    "Chú ý khi pop phần tử ra thì phải kiểm tra stack luôn có phần tử, nếu stack mà không có phần tử thì return False\n",
    "Nếu chạy hết vòng lặp thì kiểm tra số lượng phần tử còn lại trong stack:\n",
    "Nếu stack vẫn còn phần tử tức là chuỗi chứa ngoặc mở mà chưa được đóng, return False\n",
    "Nếu stack rỗng thì trả về True vì số lượng ngoặc mở và đóng là tương đồng."
   ]
  },
  {
   "cell_type": "code",
   "execution_count": 2,
   "metadata": {},
   "outputs": [],
   "source": [
    "def isValid(s: str)->bool:\n",
    "    stack =  []\n",
    "    mapping = {\")\": \"(\", \"]\" : \"[\", \"}\" : \"{\"}\n",
    "\n",
    "    for letter in s:\n",
    "        if letter not in mapping:\n",
    "            stack.append(letter)\n",
    "        else:\n",
    "            if len(stack) > 0 and stack[-1] == mapping[letter]:\n",
    "                stack.pop()\n",
    "            else:\n",
    "                return False\n",
    "    return len(stack) == 0"
   ]
  },
  {
   "cell_type": "code",
   "execution_count": 3,
   "metadata": {},
   "outputs": [
    {
     "data": {
      "text/plain": [
       "True"
      ]
     },
     "execution_count": 3,
     "metadata": {},
     "output_type": "execute_result"
    }
   ],
   "source": [
    "isValid(\"()()()\")"
   ]
  },
  {
   "cell_type": "code",
   "execution_count": 4,
   "metadata": {},
   "outputs": [
    {
     "data": {
      "text/plain": [
       "False"
      ]
     },
     "execution_count": 4,
     "metadata": {},
     "output_type": "execute_result"
    }
   ],
   "source": [
    "isValid(\"{](\")"
   ]
  }
 ],
 "metadata": {
  "kernelspec": {
   "display_name": "Python 3",
   "language": "python",
   "name": "python3"
  },
  "language_info": {
   "codemirror_mode": {
    "name": "ipython",
    "version": 3
   },
   "file_extension": ".py",
   "mimetype": "text/x-python",
   "name": "python",
   "nbconvert_exporter": "python",
   "pygments_lexer": "ipython3",
   "version": "3.11.4"
  }
 },
 "nbformat": 4,
 "nbformat_minor": 2
}
