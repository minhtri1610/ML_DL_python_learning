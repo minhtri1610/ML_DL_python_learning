{
 "cells": [
  {
   "cell_type": "markdown",
   "metadata": {},
   "source": [
    "Mục đích của Graph là thể hiện mối quan hệ giữa các đối tượng với nhau. - Đối tượng hình tròn được gọi là các các đỉnh (Node) - Những đường nối với các Node được gọi là các cạnh (Edge)"
   ]
  },
  {
   "cell_type": "markdown",
   "metadata": {},
   "source": [
    "1. Edge List"
   ]
  },
  {
   "cell_type": "code",
   "execution_count": 25,
   "metadata": {},
   "outputs": [],
   "source": [
    "# List các cạnh của một Graph\n",
    "# mỗi cạnh là một list bao gồm 2 phần tử đại diện cho 2 đỉnh được cạnh đó kết nối lại\n",
    "# đây còn được gọi là mảng 2 chiều (2D dimension)\n",
    "numbers_graph = [\n",
    "    [1, 4],\n",
    "    [1, 5],\n",
    "    [2, 3],\n",
    "    [2, 4],\n",
    "    [3, 5],\n",
    "    [4, 5]\n",
    "]"
   ]
  },
  {
   "cell_type": "markdown",
   "metadata": {},
   "source": [
    "2. Object Node\n",
    "- Object chứa các phần tử là các đỉnh\n",
    "- Key là đỉnh và value là list các đỉnh mà đỉnh hiện tại nối tới"
   ]
  },
  {
   "cell_type": "code",
   "execution_count": 26,
   "metadata": {},
   "outputs": [],
   "source": [
    "numbers_graph_2 = {\n",
    "    \"1\": [\"4\", \"5\"],\n",
    "    \"2\": [\"3\", \"4\"],\n",
    "    \"3\": [\"2\", \"5\"],\n",
    "    \"4\": [\"1\", \"2\", \"5\"],\n",
    "    \"5\": [\"1\", \"3\", \"4\"]\n",
    "}\n"
   ]
  },
  {
   "cell_type": "code",
   "execution_count": 27,
   "metadata": {},
   "outputs": [],
   "source": [
    "#Hiển thị các đỉnh của graph\n",
    "class Graph:\n",
    "    def __init__(self, graph):\n",
    "        if graph is None:\n",
    "            graph = {}\n",
    "        self.graph = graph\n",
    "\n",
    "    def displayNodes(self):\n",
    "        return self.graph.keys()\n",
    "\n",
    "    def displayEdges(self):\n",
    "        edges = []\n",
    "        nodes = self.graph.keys()\n",
    "        for node in nodes:\n",
    "            to_nodes = self.graph[node]\n",
    "            for to_node in to_nodes:\n",
    "                #liệt kê tất cả các cạnh có thể xảy ra\n",
    "                edge = set({node, to_node})\n",
    "                #thêm các cạnh duy nhất vào list\n",
    "                if edge not in edges:\n",
    "                    edges.append(edge)\n",
    "        return edges\n",
    "\n",
    "    #thêm một node vào graph\n",
    "    def addNode(self, node):\n",
    "        nodes = self.graph.keys()\n",
    "        if node not in nodes:\n",
    "            seft.graph[node] = []\n",
    "\n",
    "    #thêm một cạnh\n",
    "    def edges(self):\n",
    "        edges = []\n",
    "        nodes = self.graph.keys()\n",
    "        for node in nodes:\n",
    "            to_nodes = self.graph[node]\n",
    "            for to_node in to_nodes:\n",
    "                edge = set([node, to_node])\n",
    "                if edge not in edges:\n",
    "                    edges.append(edge)\n",
    "\n",
    "            return edges\n",
    "\n",
    "    def addEdge(self, edge):\n",
    "        if type(edge) is set:\n",
    "            nodes = self.graph.keys()\n",
    "            if edge not in self.edges():\n",
    "                (edge_start, edge_end) = tuple(edge)\n",
    "                #1; đỉnh dầu và đỉnh cuối đều tồn tại\n",
    "                if edge_start in nodes and edge_end in nodes:\n",
    "                    self.graph[edge_start].append(edge_end)\n",
    "                    self.graph[edge_end].append(edge_start)\n",
    "                #2 đỉnh đầu tồn tại và đỉnh cuối ko tồn tại\n",
    "                elif edge_start in nodes and edge_end not in nodes:\n",
    "                    self.graph[edge_start].append(edge_end)\n",
    "                    self.graph[edge_end] = [edge_start] \n",
    "                #3 đỉnh đầu không tồn tại, đỉnh cuối tồn tại\n",
    "                elif edge_start not in nodes and edge_end in nodes:\n",
    "                    self.graph[edge_start] = [edge_end] \n",
    "                    self.graph[edge_end].append(edge_start)\n",
    "                #4 cả hai đỉnh đều không tồn tại\n",
    "                else:\n",
    "                    self.graph[edge_start] = [edge_end]\n",
    "                    self.graph[edge_end] = [edge_start]\n",
    "            else:\n",
    "                print(\"This edge is existed\")\n",
    "        else: \n",
    "            print(\"Edge type must be set\")\n",
    "        \n",
    "                    "
   ]
  },
  {
   "cell_type": "code",
   "execution_count": 28,
   "metadata": {},
   "outputs": [
    {
     "data": {
      "text/plain": [
       "[{'1', '4'}, {'1', '5'}, {'2', '3'}, {'2', '4'}, {'3', '5'}, {'4', '5'}]"
      ]
     },
     "execution_count": 28,
     "metadata": {},
     "output_type": "execute_result"
    }
   ],
   "source": [
    "graph1 = Graph(numbers_graph_2)\n",
    "graph1.displayNodes()\n",
    "graph1.displayEdges()"
   ]
  },
  {
   "cell_type": "code",
   "execution_count": 29,
   "metadata": {},
   "outputs": [],
   "source": [
    "graph_4 = Graph(numbers_graph_2)"
   ]
  },
  {
   "cell_type": "code",
   "execution_count": 30,
   "metadata": {},
   "outputs": [
    {
     "data": {
      "text/plain": [
       "{'1': ['4', '5'],\n",
       " '2': ['3', '4'],\n",
       " '3': ['2', '5'],\n",
       " '4': ['1', '2', '5'],\n",
       " '5': ['1', '3', '4']}"
      ]
     },
     "execution_count": 30,
     "metadata": {},
     "output_type": "execute_result"
    }
   ],
   "source": [
    "graph_4.graph"
   ]
  },
  {
   "cell_type": "code",
   "execution_count": 31,
   "metadata": {},
   "outputs": [],
   "source": [
    "# Thêm một cạnh mà cả 2 đỉnh không tồn tại\n",
    "graph_4.addEdge({'10', '11'})"
   ]
  },
  {
   "cell_type": "code",
   "execution_count": 32,
   "metadata": {},
   "outputs": [
    {
     "data": {
      "text/plain": [
       "{'1': ['4', '5'],\n",
       " '2': ['3', '4'],\n",
       " '3': ['2', '5'],\n",
       " '4': ['1', '2', '5'],\n",
       " '5': ['1', '3', '4'],\n",
       " '10': ['11'],\n",
       " '11': ['10']}"
      ]
     },
     "execution_count": 32,
     "metadata": {},
     "output_type": "execute_result"
    }
   ],
   "source": [
    "\n",
    "graph_4.graph"
   ]
  },
  {
   "cell_type": "code",
   "execution_count": 33,
   "metadata": {},
   "outputs": [],
   "source": [
    "# Thêm một cạnh mà cả 1 trong 2 đỉnh tồn tại\n",
    "graph_4.addEdge({'5', '9'})"
   ]
  },
  {
   "cell_type": "code",
   "execution_count": 34,
   "metadata": {},
   "outputs": [
    {
     "data": {
      "text/plain": [
       "{'1': ['4', '5'],\n",
       " '2': ['3', '4'],\n",
       " '3': ['2', '5'],\n",
       " '4': ['1', '2', '5'],\n",
       " '5': ['1', '3', '4', '9'],\n",
       " '10': ['11'],\n",
       " '11': ['10'],\n",
       " '9': ['5']}"
      ]
     },
     "execution_count": 34,
     "metadata": {},
     "output_type": "execute_result"
    }
   ],
   "source": [
    "graph_4.graph"
   ]
  },
  {
   "cell_type": "code",
   "execution_count": 35,
   "metadata": {},
   "outputs": [
    {
     "data": {
      "text/plain": [
       "{'1': ['4', '5', '2'],\n",
       " '2': ['3', '4', '1'],\n",
       " '3': ['2', '5'],\n",
       " '4': ['1', '2', '5'],\n",
       " '5': ['1', '3', '4', '9'],\n",
       " '10': ['11'],\n",
       " '11': ['10'],\n",
       " '9': ['5']}"
      ]
     },
     "execution_count": 35,
     "metadata": {},
     "output_type": "execute_result"
    }
   ],
   "source": [
    "# Thêm một cạnh mà cả 2 đỉnh tồn tại và cạnh đó chưa tồn tại\n",
    "graph_4.addEdge({'1', '2'})\n",
    "graph_4.graph"
   ]
  }
 ],
 "metadata": {
  "kernelspec": {
   "display_name": "Python 3",
   "language": "python",
   "name": "python3"
  },
  "language_info": {
   "codemirror_mode": {
    "name": "ipython",
    "version": 3
   },
   "file_extension": ".py",
   "mimetype": "text/x-python",
   "name": "python",
   "nbconvert_exporter": "python",
   "pygments_lexer": "ipython3",
   "version": "3.11.4"
  }
 },
 "nbformat": 4,
 "nbformat_minor": 2
}
