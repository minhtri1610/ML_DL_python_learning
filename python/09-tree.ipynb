{
 "cells": [
  {
   "cell_type": "markdown",
   "metadata": {},
   "source": [
    "Cây khác duy nhất đồ thị (Graph) đó là cây không có chu trình(Cir)"
   ]
  },
  {
   "cell_type": "code",
   "execution_count": 22,
   "metadata": {},
   "outputs": [],
   "source": [
    "data = [0, 1, 2, 3, 4, None, 5, None, None, 6, 7, None, None, 8, None]"
   ]
  },
  {
   "cell_type": "code",
   "execution_count": 23,
   "metadata": {},
   "outputs": [],
   "source": [
    "class Node:\n",
    "    def __init__(self, val):\n",
    "        self.left = None\n",
    "        self.right = None\n",
    "        self.val = val\n",
    "\n",
    "    def __repr__(selt):\n",
    "        return str(self.val)\n",
    "\n",
    "def buildTree(data):\n",
    "    if len(data) == 0:\n",
    "        return Node()\n",
    "    i = 0\n",
    "    n = len(data)\n",
    "    root = Node(data[0])\n",
    "    def insertNode(root, i, n):\n",
    "        left_idx = 2*i + 1\n",
    "        right_idx = 2*i + 2\n",
    "\n",
    "        if left_idx < n:\n",
    "            left_val = data[left_idx]\n",
    "            left_node = Node(left_val)\n",
    "            root.left = insertNode(left_node, left_idx, n)\n",
    "\n",
    "        if right_idx < n:\n",
    "            right_val = data[right_idx]\n",
    "            right_node = Node(right_val)\n",
    "            root.right = insertNode(right_node, right_idx, n)\n",
    "        \n",
    "        return root\n",
    "\n",
    "    tree = insertNode(root, 0,n)\n",
    "    return tree"
   ]
  },
  {
   "cell_type": "code",
   "execution_count": 24,
   "metadata": {},
   "outputs": [],
   "source": [
    "tree = buildTree(data)\n",
    "# tree"
   ]
  },
  {
   "cell_type": "code",
   "execution_count": 25,
   "metadata": {},
   "outputs": [],
   "source": [
    "#duyệt tiền thứ tự\n",
    "# root - left - right"
   ]
  },
  {
   "cell_type": "code",
   "execution_count": 26,
   "metadata": {},
   "outputs": [
    {
     "name": "stdout",
     "output_type": "stream",
     "text": [
      "0\n",
      "1\n",
      "3\n",
      "4\n",
      "6\n",
      "7\n",
      "2\n",
      "5\n",
      "8\n"
     ]
    }
   ],
   "source": [
    "def preorderTraversal(tree):\n",
    "    if tree == None:\n",
    "        return\n",
    "    if tree.val != None:\n",
    "        print(tree.val)\n",
    "    preorderTraversal(tree.left)\n",
    "    preorderTraversal(tree.right)\n",
    "\n",
    "preorderTraversal(tree)"
   ]
  },
  {
   "cell_type": "code",
   "execution_count": 27,
   "metadata": {},
   "outputs": [
    {
     "name": "stdout",
     "output_type": "stream",
     "text": [
      "3\n",
      "1\n",
      "6\n",
      "4\n",
      "7\n",
      "0\n",
      "2\n",
      "8\n",
      "5\n"
     ]
    }
   ],
   "source": [
    "#duyet trung thu tu\n",
    "#left - root - right\n",
    "def inorderTraversal(tree):\n",
    "    if tree == None:\n",
    "        return\n",
    "\n",
    "    inorderTraversal(tree.left)\n",
    "    if tree.val != None:\n",
    "        print(tree.val)\n",
    "    inorderTraversal(tree.right)\n",
    "\n",
    "inorderTraversal(tree)"
   ]
  },
  {
   "cell_type": "code",
   "execution_count": 28,
   "metadata": {},
   "outputs": [
    {
     "name": "stdout",
     "output_type": "stream",
     "text": [
      "3\n",
      "6\n",
      "7\n",
      "4\n",
      "1\n",
      "8\n",
      "5\n",
      "2\n",
      "0\n"
     ]
    }
   ],
   "source": [
    "#duyet hau thu tu\n",
    "#left - right - root\n",
    "def postorderTraversal(tree):\n",
    "    if tree == None:\n",
    "        return\n",
    "    postorderTraversal(tree.left)\n",
    "    postorderTraversal(tree.right)\n",
    "    if tree.val != None:\n",
    "        print(tree.val)\n",
    "\n",
    "postorderTraversal(tree)\n"
   ]
  }
 ],
 "metadata": {
  "kernelspec": {
   "display_name": "Python 3",
   "language": "python",
   "name": "python3"
  },
  "language_info": {
   "codemirror_mode": {
    "name": "ipython",
    "version": 3
   },
   "file_extension": ".py",
   "mimetype": "text/x-python",
   "name": "python",
   "nbconvert_exporter": "python",
   "pygments_lexer": "ipython3",
   "version": "3.11.4"
  }
 },
 "nbformat": 4,
 "nbformat_minor": 2
}
